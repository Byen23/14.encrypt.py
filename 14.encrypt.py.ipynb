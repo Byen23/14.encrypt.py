{
 "cells": [
  {
   "cell_type": "code",
   "execution_count": 1,
   "metadata": {
    "ExecuteTime": {
     "end_time": "2019-01-18T01:16:07.723714Z",
     "start_time": "2019-01-18T01:15:58.183181Z"
    }
   },
   "outputs": [
    {
     "name": "stdout",
     "output_type": "stream",
     "text": [
      "Enter a one-word, lowercase message: invaders\n",
      "Enter the distance value: 3\n",
      "lqydghuv\n"
     ]
    }
   ],
   "source": [
    "# -*- coding: utf-8 -*-\n",
    "\"\"\"\n",
    "Created on Thu Jan 17, 2019\n",
    "\n",
    "File: encrypt.py\n",
    "Encrypts an input string of lowercase letters and prints.\n",
    "the result. The other input is the distance value.\n",
    "@author: Byen23\n",
    "\"\"\"\n",
    "# This will be my 14th program to be uploaded on Github.\n",
    "\n",
    "plainText = input(\"Enter a one-word, lowercase message: \")\n",
    "distance = int(input(\"Enter the distance value: \"))\n",
    "code = \"\"\n",
    "for ch in plainText:\n",
    "\tordvalue = ord(ch)\n",
    "\tcipherValue = ordvalue + distance\n",
    "\tif cipherValue > ord('z'):\n",
    "\t\tcipherValue = ord('a') + distance - \\\n",
    "\t\t\t\t\t\t(ord('z') - ordvalue + 1)\n",
    "\tcode += chr(cipherValue)\n",
    "print(code)"
   ]
  }
 ],
 "metadata": {
  "kernelspec": {
   "display_name": "Python 3",
   "language": "python",
   "name": "python3"
  },
  "language_info": {
   "codemirror_mode": {
    "name": "ipython",
    "version": 3
   },
   "file_extension": ".py",
   "mimetype": "text/x-python",
   "name": "python",
   "nbconvert_exporter": "python",
   "pygments_lexer": "ipython3",
   "version": "3.6.8"
  }
 },
 "nbformat": 4,
 "nbformat_minor": 2
}
